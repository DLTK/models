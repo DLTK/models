{
 "cells": [
  {
   "cell_type": "code",
   "execution_count": 37,
   "metadata": {},
   "outputs": [],
   "source": [
    "import os\n",
    "import SimpleITK as sitk\n",
    "import numpy as np\n",
    "import pandas as pd\n",
    "import json\n",
    "\n",
    "from reader import ALL_PROTOCOLS\n",
    "test_csv = 'test.csv'\n",
    "\n",
    "test_filenames = pd.read_csv(test_csv, \n",
    "                             dtype=object,\n",
    "                             keep_default_na=False,\n",
    "                             na_values=[]).as_matrix()\n",
    "results = {}"
   ]
  },
  {
   "cell_type": "code",
   "execution_count": 38,
   "metadata": {},
   "outputs": [],
   "source": [
    "def dice(predictions, labels, num_classes):\n",
    "    \"\"\"Calculates the categorical Dice similarity coefficients for each class\n",
    "        between labels and predictions.\n",
    "    Args:\n",
    "        predictions (np.ndarray): predictions\n",
    "        labels (np.ndarray): labels\n",
    "        num_classes (int): number of classes to calculate the dice\n",
    "            coefficient for\n",
    "    Returns:\n",
    "        np.ndarray: dice coefficient per class\n",
    "    \"\"\"\n",
    "\n",
    "    dice_scores = np.zeros((num_classes))\n",
    "    for i in range(num_classes):\n",
    "        tmp_den = (np.sum(predictions == i) + np.sum(labels == i))\n",
    "        tmp_dice = 2. * np.sum((predictions == i) * (labels == i)) / \\\n",
    "            tmp_den if tmp_den > 0 else np.nan\n",
    "        dice_scores[i] = tmp_dice\n",
    "    return dice_scores.astype(np.float32)"
   ]
  },
  {
   "cell_type": "code",
   "execution_count": 43,
   "metadata": {
    "scrolled": true
   },
   "outputs": [],
   "source": [
    "def evaluate(config, test_filenames):\n",
    "    \n",
    "    protocols = config[\"protocols\"]\n",
    "    res = {}\n",
    "    for i in range(len(test_filenames)):\n",
    "        res_individual = {}\n",
    "        for j in range(len(protocols)):\n",
    "\n",
    "            subj_id = str(test_filenames[i][0])\n",
    "\n",
    "            # Load the groud truth label\n",
    "            idx = ALL_PROTOCOLS.index(protocols[j])\n",
    "            lbl = sitk.GetArrayFromImage(\n",
    "                sitk.ReadImage(str(test_filenames[i][2 + idx]))).astype(np.int32)\n",
    "\n",
    "            # Load the predicted segmentation\n",
    "            seg_fn = os.path.join(config[\"out_segm_path\"], subj_id, protocols[j] + '.nii.gz')\n",
    "            seg = sitk.GetArrayFromImage(sitk.ReadImage(seg_fn)).astype(np.int32)\n",
    "\n",
    "            dscs =(dice(seg, lbl, config[\"num_classes\"][j]))\n",
    "            res_individual[protocols[j]] = dscs\n",
    "\n",
    "        res[subj_id] = res_individual\n",
    "        #print('ID={}; dscs={};'.format(subj_id, res[subj_id]))\n",
    "    return res\n",
    "\n",
    "def print_stats(res, config):\n",
    "    \n",
    "    for p in config[\"protocols\"]: \n",
    "        r = [np.nanmean(val[p]) for val in res.values()]\n",
    "        print('protocol: {}; mean: {:0.4f}; std: {:0.4f}; min: {:0.4f}; max: {:0.4f}'.format(\n",
    "            p, np.mean(r), np.std(r), np.min(r), np.max(r)))"
   ]
  },
  {
   "cell_type": "code",
   "execution_count": 44,
   "metadata": {},
   "outputs": [
    {
     "name": "stdout",
     "output_type": "stream",
     "text": [
      "protocol: fsl_fast; mean: 0.9511; std: 0.0190; min: 0.8338; max: 0.9763\n"
     ]
    }
   ],
   "source": [
    "# Parse the run config\n",
    "cfg_fn = 'config_fsl_fast.json'\n",
    "with open(cfg_fn) as f:\n",
    "    config = json.load(f)\n",
    "\n",
    "# Evaluate and print stats\n",
    "res_fsl_fast = evaluate(config, test_filenames)\n",
    "print_stats(res_fsl_fast, config)"
   ]
  },
  {
   "cell_type": "code",
   "execution_count": 45,
   "metadata": {},
   "outputs": [
    {
     "name": "stdout",
     "output_type": "stream",
     "text": [
      "protocol: fsl_first; mean: 0.9504; std: 0.0286; min: 0.3753; max: 0.9685\n"
     ]
    }
   ],
   "source": [
    "# Parse the run config\n",
    "cfg_fn = 'config_fsl_first.json'\n",
    "with open(cfg_fn) as f:\n",
    "    config = json.load(f)\n",
    "\n",
    "# Evaluate and print stats\n",
    "res_fsl_first = evaluate(config, test_filenames)\n",
    "print_stats(res_fsl_first, config)"
   ]
  },
  {
   "cell_type": "code",
   "execution_count": 49,
   "metadata": {},
   "outputs": [
    {
     "name": "stdout",
     "output_type": "stream",
     "text": [
      "protocol: malp_em; mean: 0.8734; std: 0.0260; min: 0.7151; max: 0.9089\n"
     ]
    }
   ],
   "source": [
    "# Parse the run config\n",
    "cfg_fn = 'config_malp_em.json'\n",
    "with open(cfg_fn) as f:\n",
    "    config = json.load(f)\n",
    "\n",
    "# Evaluate and print stats\n",
    "res_malp_em = evaluate(config, test_filenames)\n",
    "print_stats(res_malp_em, config)"
   ]
  },
  {
   "cell_type": "code",
   "execution_count": 46,
   "metadata": {},
   "outputs": [
    {
     "name": "stdout",
     "output_type": "stream",
     "text": [
      "protocol: malp_em_tissue; mean: 0.9497; std: 0.0149; min: 0.8597; max: 0.9689\n"
     ]
    }
   ],
   "source": [
    "# Parse the run config\n",
    "cfg_fn = 'config_malp_em_tissue.json'\n",
    "with open(cfg_fn) as f:\n",
    "    config = json.load(f)\n",
    "\n",
    "# Evaluate and print stats\n",
    "res_malp_em_tissue = evaluate(config, test_filenames)\n",
    "print_stats(res_malp_em_tissue, config)"
   ]
  },
  {
   "cell_type": "code",
   "execution_count": 47,
   "metadata": {},
   "outputs": [
    {
     "name": "stdout",
     "output_type": "stream",
     "text": [
      "protocol: spm_tissue; mean: 0.9484; std: 0.0346; min: 0.2652; max: 0.9692\n"
     ]
    }
   ],
   "source": [
    "# Parse the run config\n",
    "cfg_fn = 'config_spm_tissue.json'\n",
    "with open(cfg_fn) as f:\n",
    "    config = json.load(f)\n",
    "\n",
    "# Evaluate and print stats\n",
    "res_spm_tissue = evaluate(config, test_filenames)\n",
    "print_stats(res_spm_tissue, config)"
   ]
  },
  {
   "cell_type": "code",
   "execution_count": 48,
   "metadata": {},
   "outputs": [
    {
     "name": "stdout",
     "output_type": "stream",
     "text": [
      "protocol: fsl_fast; mean: 0.9457; std: 0.0197; min: 0.7961; max: 0.9721\n",
      "protocol: spm_tissue; mean: 0.9490; std: 0.0337; min: 0.2658; max: 0.9691\n",
      "protocol: malp_em_tissue; mean: 0.9391; std: 0.0269; min: 0.6763; max: 0.9649\n"
     ]
    }
   ],
   "source": [
    "# Parse the run config\n",
    "cfg_fn = 'config_tissue.json'\n",
    "with open(cfg_fn) as f:\n",
    "    config = json.load(f)\n",
    "\n",
    "# Evaluate and print stats\n",
    "res_tissue = evaluate(config, test_filenames)\n",
    "print_stats(res_tissue, config)"
   ]
  },
  {
   "cell_type": "code",
   "execution_count": 50,
   "metadata": {},
   "outputs": [
    {
     "name": "stdout",
     "output_type": "stream",
     "text": [
      "protocol: fsl_fast; mean: 0.9473; std: 0.0182; min: 0.8013; max: 0.9734\n",
      "protocol: fsl_first; mean: 0.9380; std: 0.0355; min: 0.3817; max: 0.9622\n",
      "protocol: spm_tissue; mean: 0.9491; std: 0.0337; min: 0.2653; max: 0.9699\n",
      "protocol: malp_em; mean: 0.8592; std: 0.0309; min: 0.5755; max: 0.8972\n",
      "protocol: malp_em_tissue; mean: 0.9430; std: 0.0162; min: 0.7959; max: 0.9651\n"
     ]
    }
   ],
   "source": [
    "# Parse the run config\n",
    "cfg_fn = 'config_all.json'\n",
    "with open(cfg_fn) as f:\n",
    "    config = json.load(f)\n",
    "\n",
    "# Evaluate and print stats\n",
    "res_all = evaluate(config, test_filenames)\n",
    "print_stats(res_all, config)"
   ]
  },
  {
   "cell_type": "code",
   "execution_count": null,
   "metadata": {},
   "outputs": [],
   "source": []
  }
 ],
 "metadata": {
  "kernelspec": {
   "display_name": "Python 3",
   "language": "python",
   "name": "python3"
  },
  "language_info": {
   "codemirror_mode": {
    "name": "ipython",
    "version": 3
   },
   "file_extension": ".py",
   "mimetype": "text/x-python",
   "name": "python",
   "nbconvert_exporter": "python",
   "pygments_lexer": "ipython3",
   "version": "3.5.2"
  }
 },
 "nbformat": 4,
 "nbformat_minor": 2
}
