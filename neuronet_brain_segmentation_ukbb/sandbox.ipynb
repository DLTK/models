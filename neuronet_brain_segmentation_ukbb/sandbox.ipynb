{
 "cells": [
  {
   "cell_type": "code",
   "execution_count": 1,
   "metadata": {},
   "outputs": [],
   "source": [
    "import tensorflow as tf\n",
    "import numpy as np\n",
    "import pandas as pd\n",
    "import json"
   ]
  },
  {
   "cell_type": "code",
   "execution_count": 100,
   "metadata": {},
   "outputs": [
    {
     "name": "stdout",
     "output_type": "stream",
     "text": [
      "['4453610' '/vol/biobank/12579/brain/images/4453610/T1.nii.gz'\n",
      " '/vol/biobank/12579/brain/images/4453610/T1_brain_seg.nii.gz'\n",
      " '/vol/biobank/12579/brain/images/4453610/T1_first_all_fast_firstseg.nii.gz'\n",
      " '/vol/biobank/12579/brain/images/4453610/T1_brain_seg_spm.nii.gz'\n",
      " '/vol/biobank/12579/brain/images/4453610/T1_MALPEM.nii.gz'\n",
      " '/vol/biobank/12579/brain/images/4453610/T1_MALPEM_tissues.nii.gz']\n",
      "debug\n",
      "(64, 64, 64, 1)\n",
      "debug\n",
      "malp_em_tissue\n",
      "spm_tissue\n",
      "fsl_fast\n",
      "(64, 64, 64)\n",
      "(64, 64, 64)\n",
      "(64, 64, 64)\n"
     ]
    },
    {
     "data": {
      "text/plain": [
       "[None, None, None]"
      ]
     },
     "execution_count": 100,
     "metadata": {},
     "output_type": "execute_result"
    }
   ],
   "source": [
    "import reader as reader\n",
    "import importlib\n",
    "importlib.reload(reader)\n",
    "\n",
    "all_filenames = pd.read_csv(\n",
    "    'train.csv',\n",
    "    dtype=object,\n",
    "    keep_default_na=False,\n",
    "    na_values=[]).as_matrix()\n",
    "\n",
    "# Parse the run config\n",
    "with open(\"config_tissue.json\") as f:\n",
    "    config = json.load(f)\n",
    "    \n",
    "# Set up a data reader to handle the file i/o. \n",
    "reader_params = {\n",
    "    'n_examples': 16,\n",
    "    'example_size': [64, 64, 64],\n",
    "    'extract_examples': True,\n",
    "    'protocols' : config[\"protocols\"]}\n",
    "\n",
    "# Create a generator with the read file_references `all_filenames` and \n",
    "# `reader_params` in PREDICT mode:\n",
    "it = reader.read_fn(file_references=all_filenames,\n",
    "             mode=tf.estimator.ModeKeys.TRAIN,\n",
    "             params=reader_params)\n",
    "\n",
    "# If you call `next`, the `read_fn` will yield an output dictionary as designed\n",
    "# by you:\n",
    "ex_dict = next(it)\n",
    "\n",
    "# Print that output dict to debug\n",
    "np.set_printoptions(edgeitems=1)\n",
    "print('debug')\n",
    "print(ex_dict['features']['x'].shape)\n",
    "print('debug')\n",
    "[print(l) for l in ex_dict['labels']]\n",
    "[print(ex_dict['labels'][l].shape) for l in ex_dict['labels']]"
   ]
  },
  {
   "cell_type": "code",
   "execution_count": 93,
   "metadata": {},
   "outputs": [
    {
     "data": {
      "image/png": "[encoded data removed]",
      "text/plain": [
       "<matplotlib.figure.Figure at 0x7f247b22ceb8>"
      ]
     },
     "metadata": {},
     "output_type": "display_data"
    }
   ],
   "source": [
    "# We can visualise the `batch_features` using matplotlib.\n",
    "%matplotlib inline\n",
    "import matplotlib.pyplot as plt\n",
    "\n",
    "f, axarr = plt.subplots(1, 3, figsize=(16,8))\n",
    "axarr[0].imshow(np.squeeze(ex_dict['features']['x'][32, :, :, 0]), cmap='gray')\n",
    "axarr[0].set_title('Input: x')\n",
    "axarr[0].axis('off')\n",
    "\n",
    "axarr[1].imshow(np.squeeze(ex_dict['labels']['spm_tissue'][32, :, :]), cmap='gray')\n",
    "axarr[1].set_title('spm_tissue')\n",
    "axarr[1].axis('off')\n",
    "\n",
    "axarr[2].imshow(np.squeeze(ex_dict['labels']['malp_em_tissue'][32, :, :]), cmap='gray')\n",
    "axarr[2].set_title('malp_em_tissue')\n",
    "axarr[2].axis('off')\n",
    "\n",
    "plt.show()"
   ]
  },
  {
   "cell_type": "code",
   "execution_count": null,
   "metadata": {},
   "outputs": [],
   "source": []
  }
 ],
 "metadata": {
  "kernelspec": {
   "display_name": "Python 3",
   "language": "python",
   "name": "python3"
  },
  "language_info": {
   "codemirror_mode": {
    "name": "ipython",
    "version": 3
   },
   "file_extension": ".py",
   "mimetype": "text/x-python",
   "name": "python",
   "nbconvert_exporter": "python",
   "pygments_lexer": "ipython3",
   "version": "3.5.2"
  }
 },
 "nbformat": 4,
 "nbformat_minor": 2
}
