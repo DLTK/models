{
 "cells": [
  {
   "cell_type": "code",
   "execution_count": 34,
   "metadata": {
    "collapsed": true
   },
   "outputs": [],
   "source": [
    "import os\n",
    "import pandas as pd\n",
    "import numpy as np"
   ]
  },
  {
   "cell_type": "code",
   "execution_count": 35,
   "metadata": {
    "collapsed": true
   },
   "outputs": [],
   "source": [
    "# paths\n",
    "base_path = '/vol/biobank/12579/brain/images'\n",
    "\n",
    "# list all ids \n",
    "all_ids = sorted(os.listdir(base_path))\n",
    "\n",
    "# check if all of them contain a T1w image and required segmentation(s)\n",
    "valid_ids = []\n",
    "for i in all_ids:\n",
    "    if (os.path.isfile(os.path.join(base_path, i,'T1.nii.gz')) and \n",
    "        os.path.isfile(os.path.join(base_path, i,'T1_first_all_fast_firstseg.nii.gz')) and\n",
    "        os.path.isfile(os.path.join(base_path, i,'T1_brain_seg.nii.gz')) and\n",
    "        os.path.isfile(os.path.join(base_path, i,'T1_brain_seg_spm.nii.gz')) and\n",
    "        os.path.isfile(os.path.join(base_path, i,'T1_MALPEM.nii.gz')) and\n",
    "        os.path.isfile(os.path.join(base_path, i,'T1_MALPEM_tissues.nii.gz'))):\n",
    "        valid_ids.append(i)\n"
   ]
  },
  {
   "cell_type": "code",
   "execution_count": 36,
   "metadata": {},
   "outputs": [
    {
     "name": "stdout",
     "output_type": "stream",
     "text": [
      "5723\n"
     ]
    }
   ],
   "source": [
    "print(len(valid_ids))"
   ]
  },
  {
   "cell_type": "code",
   "execution_count": 37,
   "metadata": {
    "collapsed": true
   },
   "outputs": [],
   "source": [
    "def get_full_paths(_id, fn):\n",
    "    return os.path.join(base_path, _id, fn)\n",
    "\n",
    "hdr = ['id', 't1', 'fsl_fast', 'fsl_first', 'spm_tissue', 'malp_em', 'malp_em_tissue']\n",
    "valid_df = []\n",
    "for i in valid_ids:\n",
    "    valid_df.append([i, \n",
    "                 get_full_paths(i, 'T1.nii.gz'),\n",
    "                 get_full_paths(i, 'T1_brain_seg.nii.gz'),\n",
    "                 get_full_paths(i, 'T1_first_all_fast_firstseg.nii.gz'),\n",
    "                 get_full_paths(i, 'T1_brain_seg_spm.nii.gz'),\n",
    "                 get_full_paths(i, 'T1_MALPEM.nii.gz'),\n",
    "                 get_full_paths(i, 'T1_MALPEM_tissues.nii.gz')])\n",
    "\n"
   ]
  },
  {
   "cell_type": "code",
   "execution_count": 38,
   "metadata": {},
   "outputs": [
    {
     "name": "stdout",
     "output_type": "stream",
     "text": [
      "['1000845', '/vol/biobank/12579/brain/images/1000845/T1.nii.gz', '/vol/biobank/12579/brain/images/1000845/T1_brain_seg.nii.gz', '/vol/biobank/12579/brain/images/1000845/T1_first_all_fast_firstseg.nii.gz', '/vol/biobank/12579/brain/images/1000845/T1_brain_seg_spm.nii.gz', '/vol/biobank/12579/brain/images/1000845/T1_MALPEM.nii.gz', '/vol/biobank/12579/brain/images/1000845/T1_MALPEM_tissues.nii.gz']\n",
      "(5723, 7)\n"
     ]
    }
   ],
   "source": [
    "print(valid_df[0])\n",
    "print(np.array(valid_df).shape)\n"
   ]
  },
  {
   "cell_type": "code",
   "execution_count": 39,
   "metadata": {},
   "outputs": [
    {
     "name": "stdout",
     "output_type": "stream",
     "text": [
      "5000\n",
      "10\n",
      "713\n"
     ]
    }
   ],
   "source": [
    "\n",
    "# 5k training ids\n",
    "write_df = valid_df[:5000]\n",
    "pd.DataFrame(write_df).to_csv('train.csv', index=False, header=hdr)\n",
    "print(len(write_df))\n",
    "\n",
    "# 424 test ids\n",
    "write_df = valid_df[5000:5010]\n",
    "pd.DataFrame(write_df).to_csv('val.csv', index=False, header=hdr)\n",
    "print(len(write_df))\n",
    "\n",
    "write_df = valid_df[5010:]\n",
    "pd.DataFrame(write_df).to_csv('test.csv', index=False, header=hdr)\n",
    "print(len(write_df))"
   ]
  },
  {
   "cell_type": "code",
   "execution_count": 5,
   "metadata": {},
   "outputs": [
    {
     "name": "stdout",
     "output_type": "stream",
     "text": [
      "400\n",
      "29\n"
     ]
    }
   ],
   "source": [
    "# 5k training ids\n",
    "write_ids = valid_ids[:400]\n",
    "pd.DataFrame(write_ids).to_csv('train.csv', index=False, header=(['id']))\n",
    "print(len(write_ids))\n",
    "\n",
    "# 424 test ids\n",
    "write_ids = valid_ids[400:]\n",
    "df = pd.DataFrame(write_ids).to_csv('val.csv', index=False, header=(['id']))\n",
    "print(len(write_ids))"
   ]
  },
  {
   "cell_type": "code",
   "execution_count": null,
   "metadata": {
    "collapsed": true
   },
   "outputs": [],
   "source": [
    "# 5k training ids\n",
    "write_ids = valid_ids[:5000]\n",
    "pd.DataFrame(write_ids).to_csv('train.csv', index=False, header=(['id']))\n",
    "print(len(write_ids))\n",
    "\n",
    "# 300 val ids \n",
    "write_ids = valid_ids[5000:5300]\n",
    "df = pd.DataFrame(write_ids).to_csv('val.csv', index=False, header=(['id']))\n",
    "print(len(write_ids))\n",
    "\n",
    "# 424 test ids\n",
    "write_ids = valid_ids[5300:]\n",
    "df = pd.DataFrame(write_ids).to_csv('test.csv', index=False, header=(['id']))\n",
    "print(len(write_ids))"
   ]
  }
 ],
 "metadata": {
  "kernelspec": {
   "display_name": "Python 2",
   "language": "python",
   "name": "python2"
  },
  "language_info": {
   "codemirror_mode": {
    "name": "ipython",
    "version": 2
   },
   "file_extension": ".py",
   "mimetype": "text/x-python",
   "name": "python",
   "nbconvert_exporter": "python",
   "pygments_lexer": "ipython2",
   "version": "2.7.12"
  }
 },
 "nbformat": 4,
 "nbformat_minor": 2
}
