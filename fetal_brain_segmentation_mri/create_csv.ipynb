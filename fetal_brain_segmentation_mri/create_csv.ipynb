{
 "cells": [
  {
   "cell_type": "code",
   "execution_count": 11,
   "metadata": {},
   "outputs": [],
   "source": [
    "import numpy as np\n",
    "import pandas as pd\n",
    "import os"
   ]
  },
  {
   "cell_type": "code",
   "execution_count": 12,
   "metadata": {},
   "outputs": [],
   "source": [
    "data_path = '/vol/biomedic2/mrajchl/data/iFind2_db'"
   ]
  },
  {
   "cell_type": "code",
   "execution_count": 13,
   "metadata": {},
   "outputs": [],
   "source": [
    "ids = ['iFIND00011', 'iFIND00014', 'iFIND00018', 'iFIND00022', 'iFIND00025', 'iFIND00029', 'iFIND00033', 'iFIND00036', 'iFIND00039', 'iFIND00042', 'iFIND00046', 'iFIND00049', \n",
    "'iFIND00012', 'iFIND00016', 'iFIND00019', 'iFIND00023', 'iFIND00026', 'iFIND00030', 'iFIND00034', 'iFIND00037', 'iFIND00040', 'iFIND00043', 'iFIND00047', 'iFIND00050', \n",
    "'iFIND00013', 'iFIND00017', 'iFIND00020', 'iFIND00024', 'iFIND00028', 'iFIND00031', 'iFIND00035', 'iFIND00038', 'iFIND00041', 'iFIND00045', 'iFIND00048', 'iFIND00051', ]"
   ]
  },
  {
   "cell_type": "code",
   "execution_count": 14,
   "metadata": {},
   "outputs": [],
   "source": [
    "hdr = ['iFIND_id', 'image', 'segmentation']\n",
    "\n",
    "data = []\n",
    "for i in ids:\n",
    "    \n",
    "    img_fn = os.path.join(data_path, 'imgs', i + '.nii.gz')\n",
    "    seg_fn = os.path.join(data_path, 'seg', i + '.nii.gz')\n",
    "    \n",
    "    data.append([i, img_fn, seg_fn] )"
   ]
  },
  {
   "cell_type": "code",
   "execution_count": 15,
   "metadata": {},
   "outputs": [
    {
     "name": "stdout",
     "output_type": "stream",
     "text": [
      "['iFIND00011', '/vol/biomedic2/mrajchl/data/iFind2_db/imgs/iFIND00011.nii.gz', '/vol/biomedic2/mrajchl/data/iFind2_db/seg/iFIND00011.nii.gz']\n"
     ]
    }
   ],
   "source": [
    "print (data[0])"
   ]
  },
  {
   "cell_type": "code",
   "execution_count": 16,
   "metadata": {},
   "outputs": [],
   "source": [
    "pd.DataFrame(data).to_csv('iFind_fetal.csv', index=False, header=hdr)"
   ]
  },
  {
   "cell_type": "code",
   "execution_count": null,
   "metadata": {},
   "outputs": [],
   "source": []
  }
 ],
 "metadata": {
  "kernelspec": {
   "display_name": "Python 2",
   "language": "python",
   "name": "python2"
  },
  "language_info": {
   "codemirror_mode": {
    "name": "ipython",
    "version": 2
   },
   "file_extension": ".py",
   "mimetype": "text/x-python",
   "name": "python",
   "nbconvert_exporter": "python",
   "pygments_lexer": "ipython2",
   "version": "2.7.12"
  }
 },
 "nbformat": 4,
 "nbformat_minor": 2
}
